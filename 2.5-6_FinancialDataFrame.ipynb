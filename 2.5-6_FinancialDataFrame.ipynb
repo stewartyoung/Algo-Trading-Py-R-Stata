{
 "cells": [
  {
   "cell_type": "code",
   "execution_count": 1,
   "metadata": {},
   "outputs": [],
   "source": [
    "import pandas as pd"
   ]
  },
  {
   "cell_type": "code",
   "execution_count": 2,
   "metadata": {},
   "outputs": [],
   "source": [
    "import pandas_datareader as pdr"
   ]
  },
  {
   "cell_type": "code",
   "execution_count": 3,
   "metadata": {},
   "outputs": [],
   "source": [
    "import datetime"
   ]
  },
  {
   "cell_type": "code",
   "execution_count": 4,
   "metadata": {},
   "outputs": [],
   "source": [
    "aapl = pdr.get_data_yahoo('AAPL', start = datetime.datetime(2008,1,1), end=datetime.datetime(2012,1,1))"
   ]
  },
  {
   "cell_type": "code",
   "execution_count": 5,
   "metadata": {},
   "outputs": [
    {
     "data": {
      "text/html": [
       "<div>\n",
       "<style scoped>\n",
       "    .dataframe tbody tr th:only-of-type {\n",
       "        vertical-align: middle;\n",
       "    }\n",
       "\n",
       "    .dataframe tbody tr th {\n",
       "        vertical-align: top;\n",
       "    }\n",
       "\n",
       "    .dataframe thead th {\n",
       "        text-align: right;\n",
       "    }\n",
       "</style>\n",
       "<table border=\"1\" class=\"dataframe\">\n",
       "  <thead>\n",
       "    <tr style=\"text-align: right;\">\n",
       "      <th></th>\n",
       "      <th>High</th>\n",
       "      <th>Low</th>\n",
       "      <th>Open</th>\n",
       "      <th>Close</th>\n",
       "      <th>Volume</th>\n",
       "      <th>Adj Close</th>\n",
       "    </tr>\n",
       "  </thead>\n",
       "  <tbody>\n",
       "    <tr>\n",
       "      <td>count</td>\n",
       "      <td>1009.000000</td>\n",
       "      <td>1009.000000</td>\n",
       "      <td>1009.000000</td>\n",
       "      <td>1009.000000</td>\n",
       "      <td>1.009000e+03</td>\n",
       "      <td>1009.000000</td>\n",
       "    </tr>\n",
       "    <tr>\n",
       "      <td>mean</td>\n",
       "      <td>32.966387</td>\n",
       "      <td>32.165195</td>\n",
       "      <td>32.593259</td>\n",
       "      <td>32.582081</td>\n",
       "      <td>1.745092e+08</td>\n",
       "      <td>28.434813</td>\n",
       "    </tr>\n",
       "    <tr>\n",
       "      <td>std</td>\n",
       "      <td>14.036380</td>\n",
       "      <td>13.917965</td>\n",
       "      <td>13.986114</td>\n",
       "      <td>13.982855</td>\n",
       "      <td>9.873808e+07</td>\n",
       "      <td>12.203022</td>\n",
       "    </tr>\n",
       "    <tr>\n",
       "      <td>min</td>\n",
       "      <td>11.714286</td>\n",
       "      <td>11.171429</td>\n",
       "      <td>11.341429</td>\n",
       "      <td>11.171429</td>\n",
       "      <td>3.937360e+07</td>\n",
       "      <td>9.749454</td>\n",
       "    </tr>\n",
       "    <tr>\n",
       "      <td>25%</td>\n",
       "      <td>20.815714</td>\n",
       "      <td>20.257143</td>\n",
       "      <td>20.544285</td>\n",
       "      <td>20.534286</td>\n",
       "      <td>1.066583e+08</td>\n",
       "      <td>17.920544</td>\n",
       "    </tr>\n",
       "    <tr>\n",
       "      <td>50%</td>\n",
       "      <td>29.230000</td>\n",
       "      <td>28.542856</td>\n",
       "      <td>28.905714</td>\n",
       "      <td>28.871429</td>\n",
       "      <td>1.483909e+08</td>\n",
       "      <td>25.196476</td>\n",
       "    </tr>\n",
       "    <tr>\n",
       "      <td>75%</td>\n",
       "      <td>46.542858</td>\n",
       "      <td>45.931427</td>\n",
       "      <td>46.428570</td>\n",
       "      <td>46.382858</td>\n",
       "      <td>2.126635e+08</td>\n",
       "      <td>40.478931</td>\n",
       "    </tr>\n",
       "    <tr>\n",
       "      <td>max</td>\n",
       "      <td>60.957142</td>\n",
       "      <td>59.427143</td>\n",
       "      <td>60.251427</td>\n",
       "      <td>60.320000</td>\n",
       "      <td>8.432424e+08</td>\n",
       "      <td>52.642063</td>\n",
       "    </tr>\n",
       "  </tbody>\n",
       "</table>\n",
       "</div>"
      ],
      "text/plain": [
       "              High          Low         Open        Close        Volume  \\\n",
       "count  1009.000000  1009.000000  1009.000000  1009.000000  1.009000e+03   \n",
       "mean     32.966387    32.165195    32.593259    32.582081  1.745092e+08   \n",
       "std      14.036380    13.917965    13.986114    13.982855  9.873808e+07   \n",
       "min      11.714286    11.171429    11.341429    11.171429  3.937360e+07   \n",
       "25%      20.815714    20.257143    20.544285    20.534286  1.066583e+08   \n",
       "50%      29.230000    28.542856    28.905714    28.871429  1.483909e+08   \n",
       "75%      46.542858    45.931427    46.428570    46.382858  2.126635e+08   \n",
       "max      60.957142    59.427143    60.251427    60.320000  8.432424e+08   \n",
       "\n",
       "         Adj Close  \n",
       "count  1009.000000  \n",
       "mean     28.434813  \n",
       "std      12.203022  \n",
       "min       9.749454  \n",
       "25%      17.920544  \n",
       "50%      25.196476  \n",
       "75%      40.478931  \n",
       "max      52.642063  "
      ]
     },
     "execution_count": 5,
     "metadata": {},
     "output_type": "execute_result"
    }
   ],
   "source": [
    "aapl.describe()"
   ]
  },
  {
   "cell_type": "code",
   "execution_count": 6,
   "metadata": {},
   "outputs": [],
   "source": [
    "aapl.to_csv('aapl_02_04.csv')"
   ]
  },
  {
   "cell_type": "code",
   "execution_count": 7,
   "metadata": {},
   "outputs": [],
   "source": [
    "download_aapl = \"02_04CSV.csv\""
   ]
  },
  {
   "cell_type": "code",
   "execution_count": 8,
   "metadata": {},
   "outputs": [],
   "source": [
    "aapl['Change'] = aapl.Open - aapl.Close"
   ]
  },
  {
   "cell_type": "code",
   "execution_count": 9,
   "metadata": {},
   "outputs": [],
   "source": [
    "aapl['Pct_Chg'] = aapl.Change/aapl.Open"
   ]
  },
  {
   "cell_type": "code",
   "execution_count": 10,
   "metadata": {},
   "outputs": [
    {
     "name": "stdout",
     "output_type": "stream",
     "text": [
      "Requirement already satisfied: matplotlib in /miniconda3/lib/python3.7/site-packages (3.1.1)\n",
      "Requirement already satisfied: numpy>=1.11 in /miniconda3/lib/python3.7/site-packages (from matplotlib) (1.17.2)\n",
      "Requirement already satisfied: pyparsing!=2.0.4,!=2.1.2,!=2.1.6,>=2.0.1 in /miniconda3/lib/python3.7/site-packages (from matplotlib) (2.4.2)\n",
      "Requirement already satisfied: python-dateutil>=2.1 in /miniconda3/lib/python3.7/site-packages (from matplotlib) (2.8.0)\n",
      "Requirement already satisfied: cycler>=0.10 in /miniconda3/lib/python3.7/site-packages (from matplotlib) (0.10.0)\n",
      "Requirement already satisfied: kiwisolver>=1.0.1 in /miniconda3/lib/python3.7/site-packages (from matplotlib) (1.1.0)\n",
      "Requirement already satisfied: six>=1.5 in /miniconda3/lib/python3.7/site-packages (from python-dateutil>=2.1->matplotlib) (1.12.0)\n",
      "Requirement already satisfied: setuptools in /miniconda3/lib/python3.7/site-packages (from kiwisolver>=1.0.1->matplotlib) (41.0.1)\n",
      "Note: you may need to restart the kernel to use updated packages.\n"
     ]
    }
   ],
   "source": [
    "pip install matplotlib"
   ]
  },
  {
   "cell_type": "code",
   "execution_count": 11,
   "metadata": {},
   "outputs": [],
   "source": [
    "import matplotlib as plt"
   ]
  },
  {
   "cell_type": "code",
   "execution_count": 12,
   "metadata": {},
   "outputs": [
    {
     "data": {
      "text/plain": [
       "<matplotlib.axes._subplots.AxesSubplot at 0x12268eb38>"
      ]
     },
     "execution_count": 12,
     "metadata": {},
     "output_type": "execute_result"
    }
   ],
   "source": [
    "aapl['Pct_Chg'].plot(grid=True)"
   ]
  },
  {
   "cell_type": "markdown",
   "metadata": {},
   "source": [
    "## Chapter 2.6"
   ]
  },
  {
   "cell_type": "code",
   "execution_count": 14,
   "metadata": {},
   "outputs": [],
   "source": [
    "def get(tickers, startDate, endDate):\n",
    "    def data(ticker):\n",
    "        return pdr.get_data_yahoo(ticker, start = startDate, end = endDate)\n",
    "    datas = map(data,tickers)\n",
    "    return(pd.concat(datas, keys=tickers, names=['Ticker','Date']))\n",
    "tickers=['MSFT', 'CRM', 'GE', 'MMM']\n",
    "all_data = get(tickers, datetime.datetime(2015,1,1), datetime.datetime(2019,1,1))"
   ]
  },
  {
   "cell_type": "code",
   "execution_count": 15,
   "metadata": {},
   "outputs": [
    {
     "data": {
      "text/html": [
       "<div>\n",
       "<style scoped>\n",
       "    .dataframe tbody tr th:only-of-type {\n",
       "        vertical-align: middle;\n",
       "    }\n",
       "\n",
       "    .dataframe tbody tr th {\n",
       "        vertical-align: top;\n",
       "    }\n",
       "\n",
       "    .dataframe thead th {\n",
       "        text-align: right;\n",
       "    }\n",
       "</style>\n",
       "<table border=\"1\" class=\"dataframe\">\n",
       "  <thead>\n",
       "    <tr style=\"text-align: right;\">\n",
       "      <th></th>\n",
       "      <th></th>\n",
       "      <th>High</th>\n",
       "      <th>Low</th>\n",
       "      <th>Open</th>\n",
       "      <th>Close</th>\n",
       "      <th>Volume</th>\n",
       "      <th>Adj Close</th>\n",
       "    </tr>\n",
       "    <tr>\n",
       "      <th>Ticker</th>\n",
       "      <th>Date</th>\n",
       "      <th></th>\n",
       "      <th></th>\n",
       "      <th></th>\n",
       "      <th></th>\n",
       "      <th></th>\n",
       "      <th></th>\n",
       "    </tr>\n",
       "  </thead>\n",
       "  <tbody>\n",
       "    <tr>\n",
       "      <td rowspan=\"5\" valign=\"top\">MSFT</td>\n",
       "      <td>2015-01-02</td>\n",
       "      <td>47.419998</td>\n",
       "      <td>46.540001</td>\n",
       "      <td>46.660000</td>\n",
       "      <td>46.759998</td>\n",
       "      <td>27913900.0</td>\n",
       "      <td>42.122040</td>\n",
       "    </tr>\n",
       "    <tr>\n",
       "      <td>2015-01-05</td>\n",
       "      <td>46.730000</td>\n",
       "      <td>46.250000</td>\n",
       "      <td>46.369999</td>\n",
       "      <td>46.330002</td>\n",
       "      <td>39673900.0</td>\n",
       "      <td>41.734680</td>\n",
       "    </tr>\n",
       "    <tr>\n",
       "      <td>2015-01-06</td>\n",
       "      <td>46.750000</td>\n",
       "      <td>45.540001</td>\n",
       "      <td>46.380001</td>\n",
       "      <td>45.650002</td>\n",
       "      <td>36447900.0</td>\n",
       "      <td>41.122128</td>\n",
       "    </tr>\n",
       "    <tr>\n",
       "      <td>2015-01-07</td>\n",
       "      <td>46.459999</td>\n",
       "      <td>45.490002</td>\n",
       "      <td>45.980000</td>\n",
       "      <td>46.230000</td>\n",
       "      <td>29114100.0</td>\n",
       "      <td>41.644604</td>\n",
       "    </tr>\n",
       "    <tr>\n",
       "      <td>2015-01-08</td>\n",
       "      <td>47.750000</td>\n",
       "      <td>46.720001</td>\n",
       "      <td>46.750000</td>\n",
       "      <td>47.590000</td>\n",
       "      <td>29645200.0</td>\n",
       "      <td>42.869705</td>\n",
       "    </tr>\n",
       "    <tr>\n",
       "      <td>...</td>\n",
       "      <td>...</td>\n",
       "      <td>...</td>\n",
       "      <td>...</td>\n",
       "      <td>...</td>\n",
       "      <td>...</td>\n",
       "      <td>...</td>\n",
       "      <td>...</td>\n",
       "    </tr>\n",
       "    <tr>\n",
       "      <td rowspan=\"5\" valign=\"top\">MMM</td>\n",
       "      <td>2018-12-24</td>\n",
       "      <td>183.539993</td>\n",
       "      <td>178.509995</td>\n",
       "      <td>181.889999</td>\n",
       "      <td>178.619995</td>\n",
       "      <td>2249500.0</td>\n",
       "      <td>174.293747</td>\n",
       "    </tr>\n",
       "    <tr>\n",
       "      <td>2018-12-26</td>\n",
       "      <td>186.330002</td>\n",
       "      <td>176.869995</td>\n",
       "      <td>179.380005</td>\n",
       "      <td>186.259995</td>\n",
       "      <td>2925500.0</td>\n",
       "      <td>181.748703</td>\n",
       "    </tr>\n",
       "    <tr>\n",
       "      <td>2018-12-27</td>\n",
       "      <td>190.699997</td>\n",
       "      <td>182.880005</td>\n",
       "      <td>183.500000</td>\n",
       "      <td>190.699997</td>\n",
       "      <td>2809000.0</td>\n",
       "      <td>186.081161</td>\n",
       "    </tr>\n",
       "    <tr>\n",
       "      <td>2018-12-28</td>\n",
       "      <td>192.300003</td>\n",
       "      <td>188.570007</td>\n",
       "      <td>191.809998</td>\n",
       "      <td>189.369995</td>\n",
       "      <td>2311400.0</td>\n",
       "      <td>184.783386</td>\n",
       "    </tr>\n",
       "    <tr>\n",
       "      <td>2018-12-31</td>\n",
       "      <td>191.649994</td>\n",
       "      <td>188.500000</td>\n",
       "      <td>190.339996</td>\n",
       "      <td>190.539993</td>\n",
       "      <td>1804400.0</td>\n",
       "      <td>185.925049</td>\n",
       "    </tr>\n",
       "  </tbody>\n",
       "</table>\n",
       "<p>4024 rows × 6 columns</p>\n",
       "</div>"
      ],
      "text/plain": [
       "                         High         Low        Open       Close      Volume  \\\n",
       "Ticker Date                                                                     \n",
       "MSFT   2015-01-02   47.419998   46.540001   46.660000   46.759998  27913900.0   \n",
       "       2015-01-05   46.730000   46.250000   46.369999   46.330002  39673900.0   \n",
       "       2015-01-06   46.750000   45.540001   46.380001   45.650002  36447900.0   \n",
       "       2015-01-07   46.459999   45.490002   45.980000   46.230000  29114100.0   \n",
       "       2015-01-08   47.750000   46.720001   46.750000   47.590000  29645200.0   \n",
       "...                       ...         ...         ...         ...         ...   \n",
       "MMM    2018-12-24  183.539993  178.509995  181.889999  178.619995   2249500.0   \n",
       "       2018-12-26  186.330002  176.869995  179.380005  186.259995   2925500.0   \n",
       "       2018-12-27  190.699997  182.880005  183.500000  190.699997   2809000.0   \n",
       "       2018-12-28  192.300003  188.570007  191.809998  189.369995   2311400.0   \n",
       "       2018-12-31  191.649994  188.500000  190.339996  190.539993   1804400.0   \n",
       "\n",
       "                    Adj Close  \n",
       "Ticker Date                    \n",
       "MSFT   2015-01-02   42.122040  \n",
       "       2015-01-05   41.734680  \n",
       "       2015-01-06   41.122128  \n",
       "       2015-01-07   41.644604  \n",
       "       2015-01-08   42.869705  \n",
       "...                       ...  \n",
       "MMM    2018-12-24  174.293747  \n",
       "       2018-12-26  181.748703  \n",
       "       2018-12-27  186.081161  \n",
       "       2018-12-28  184.783386  \n",
       "       2018-12-31  185.925049  \n",
       "\n",
       "[4024 rows x 6 columns]"
      ]
     },
     "execution_count": 15,
     "metadata": {},
     "output_type": "execute_result"
    }
   ],
   "source": [
    "all_data"
   ]
  },
  {
   "cell_type": "code",
   "execution_count": null,
   "metadata": {},
   "outputs": [],
   "source": [
    "all"
   ]
  }
 ],
 "metadata": {
  "kernelspec": {
   "display_name": "Python 3",
   "language": "python",
   "name": "python3"
  },
  "language_info": {
   "codemirror_mode": {
    "name": "ipython",
    "version": 3
   },
   "file_extension": ".py",
   "mimetype": "text/x-python",
   "name": "python",
   "nbconvert_exporter": "python",
   "pygments_lexer": "ipython3",
   "version": "3.7.3"
  }
 },
 "nbformat": 4,
 "nbformat_minor": 4
}
